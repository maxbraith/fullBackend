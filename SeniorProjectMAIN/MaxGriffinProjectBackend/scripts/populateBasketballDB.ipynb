{
 "cells": [
  {
   "cell_type": "code",
   "execution_count": 1,
   "metadata": {},
   "outputs": [],
   "source": [
    "import requests\n",
    "import psycopg2\n",
    "import pandas as pd\n",
    "from datetime import datetime\n",
    "import pytz"
   ]
  },
  {
   "cell_type": "code",
   "execution_count": 2,
   "metadata": {},
   "outputs": [],
   "source": [
    "apiKey = input('Enter API key: ')"
   ]
  },
  {
   "cell_type": "code",
   "execution_count": 3,
   "metadata": {},
   "outputs": [],
   "source": [
    "sport = 'basketball_nba'\n",
    "region = 'us,us2'\n",
    "markets = 'h2h'\n",
    "oddsFormat = 'american'"
   ]
  },
  {
   "cell_type": "code",
   "execution_count": 4,
   "metadata": {},
   "outputs": [
    {
     "name": "stdout",
     "output_type": "stream",
     "text": [
      "<Response [200]>\n"
     ]
    }
   ],
   "source": [
    "response = requests.get(f'https://api.the-odds-api.com/v4/sports/{sport}/odds?apiKey={apiKey}&regions={region}&markets={markets}&dateFormat=iso&oddsFormat={oddsFormat}&includeLinks=false&includeSids=true&includeBetLimits=true')\n",
    "print(response)"
   ]
  },
  {
   "cell_type": "code",
   "execution_count": 5,
   "metadata": {},
   "outputs": [],
   "source": [
    "data = response.json()"
   ]
  },
  {
   "cell_type": "code",
   "execution_count": 6,
   "metadata": {},
   "outputs": [],
   "source": [
    "\n",
    "conn = psycopg2.connect(\n",
    "    dbname=\"max_griffin_project\",\n",
    "    user=\"local\",\n",
    "    password=\"local_user123\",\n",
    "    host=\"localhost\", \n",
    "    port=\"5432\"\n",
    ")\n",
    "cur = conn.cursor()\n",
    "\n",
    "try:\n",
    "    for i in range(len(data)):\n",
    "        event_id = data[i][\"id\"]\n",
    "        sport = data[i][\"sport_key\"]\n",
    "        home_team = data[i][\"home_team\"]\n",
    "        away_team = data[i][\"away_team\"]\n",
    "        start_time = datetime.strptime(data[i][\"commence_time\"], \"%Y-%m-%dT%H:%M:%SZ\")\n",
    "        start_time = start_time.replace(tzinfo=pytz.UTC)\n",
    "\n",
    "        cur.execute(\"INSERT INTO event (event_id, sport, home_team, away_team, start_time) VALUES (%s, %s, %s, %s, %s)\", (event_id, sport, home_team, away_team, start_time))\n",
    "        for j in range(len(data[i][\"bookmakers\"])):\n",
    "            bookie_id = data[i][\"bookmakers\"][j][\"key\"]\n",
    "            bookie_name = data[i][\"bookmakers\"][j][\"title\"]\n",
    "            cur.execute(\"INSERT INTO bookmaker (bookmaker_id, name) VALUES (%s, %s) ON CONFLICT (bookmaker_id) DO NOTHING\", (bookie_id, bookie_name))\n",
    "            market_id = data[i][\"bookmakers\"][j][\"markets\"][0][\"key\"]\n",
    "            cur.execute(\"INSERT INTO market (market_id, name) VALUES (%s, %s) ON CONFLICT (market_id) DO NOTHING\", (market_id, \"MoneyLine\"))\n",
    "            timestamp = datetime.strptime(data[i][\"bookmakers\"][j][\"markets\"][0][\"last_update\"], \"%Y-%m-%dT%H:%M:%SZ\")\n",
    "            timestamp = timestamp.replace(tzinfo=pytz.UTC)\n",
    "            conn.commit()\n",
    "            for k in range(len(data[i][\"bookmakers\"][j][\"markets\"][0][\"outcomes\"])):\n",
    "                team = data[i][\"bookmakers\"][j][\"markets\"][0][\"outcomes\"][k][\"name\"]\n",
    "                price = f'{data[i][\"bookmakers\"][j][\"markets\"][0][\"outcomes\"][k][\"price\"]}'\n",
    "                cur.execute(\"INSERT INTO liveline (liveline_id, price, team, timestamp, sport, bookmaker_id, event_id, market_id) VALUES (uuid_generate_v4(), %s, %s, %s, %s, %s, %s, %s)\", (price, team, timestamp, sport, bookie_id, event_id, market_id))\n",
    "    conn.commit()\n",
    "except Exception as e:\n",
    "    conn.rollback()\n",
    "    print(f'Database Error: {e}')\n",
    "\n",
    "cur.close()\n",
    "conn.close()\n",
    "\n"
   ]
  },
  {
   "cell_type": "code",
   "execution_count": 7,
   "metadata": {},
   "outputs": [
    {
     "name": "stdout",
     "output_type": "stream",
     "text": [
      "basketball_nba\n"
     ]
    }
   ],
   "source": [
    "print(data[0][\"sport_key\"])"
   ]
  }
 ],
 "metadata": {
  "kernelspec": {
   "display_name": "base",
   "language": "python",
   "name": "python3"
  },
  "language_info": {
   "codemirror_mode": {
    "name": "ipython",
    "version": 3
   },
   "file_extension": ".py",
   "mimetype": "text/x-python",
   "name": "python",
   "nbconvert_exporter": "python",
   "pygments_lexer": "ipython3",
   "version": "3.12.7"
  }
 },
 "nbformat": 4,
 "nbformat_minor": 2
}
