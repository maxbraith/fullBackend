{
 "cells": [
  {
   "cell_type": "code",
   "execution_count": 3,
   "metadata": {},
   "outputs": [],
   "source": [
    "import requests\n",
    "from bs4 import BeautifulSoup\n",
    "import re\n",
    "import uuid\n",
    "import csv\n",
    "import pandas as pd"
   ]
  },
  {
   "cell_type": "code",
   "execution_count": 4,
   "metadata": {},
   "outputs": [
    {
     "data": {
      "text/html": [
       "<div>\n",
       "<style scoped>\n",
       "    .dataframe tbody tr th:only-of-type {\n",
       "        vertical-align: middle;\n",
       "    }\n",
       "\n",
       "    .dataframe tbody tr th {\n",
       "        vertical-align: top;\n",
       "    }\n",
       "\n",
       "    .dataframe thead th {\n",
       "        text-align: right;\n",
       "    }\n",
       "</style>\n",
       "<table border=\"1\" class=\"dataframe\">\n",
       "  <thead>\n",
       "    <tr style=\"text-align: right;\">\n",
       "      <th></th>\n",
       "      <th>link</th>\n",
       "      <th>UUID</th>\n",
       "    </tr>\n",
       "  </thead>\n",
       "  <tbody>\n",
       "    <tr>\n",
       "      <th>0</th>\n",
       "      <td>http://www.ufcstats.com/fighter-details/c32aeb...</td>\n",
       "      <td>7e60e735-5d1d-4fa3-b7f7-bcc4a1f50c04</td>\n",
       "    </tr>\n",
       "    <tr>\n",
       "      <th>1</th>\n",
       "      <td>http://www.ufcstats.com/fighter-details/23024f...</td>\n",
       "      <td>cec78d13-b105-4e36-a908-2bcd35d211c9</td>\n",
       "    </tr>\n",
       "    <tr>\n",
       "      <th>2</th>\n",
       "      <td>http://www.ufcstats.com/fighter-details/480779...</td>\n",
       "      <td>84d443f9-78b9-4e4e-9b86-bd38270ccad1</td>\n",
       "    </tr>\n",
       "    <tr>\n",
       "      <th>3</th>\n",
       "      <td>http://www.ufcstats.com/fighter-details/94426b...</td>\n",
       "      <td>9f4d943c-191c-4a56-a20c-4286297f581b</td>\n",
       "    </tr>\n",
       "    <tr>\n",
       "      <th>4</th>\n",
       "      <td>http://www.ufcstats.com/fighter-details/49d2a0...</td>\n",
       "      <td>abbdfe77-12e0-40e4-b3dd-30bc906a5d71</td>\n",
       "    </tr>\n",
       "  </tbody>\n",
       "</table>\n",
       "</div>"
      ],
      "text/plain": [
       "                                                link  \\\n",
       "0  http://www.ufcstats.com/fighter-details/c32aeb...   \n",
       "1  http://www.ufcstats.com/fighter-details/23024f...   \n",
       "2  http://www.ufcstats.com/fighter-details/480779...   \n",
       "3  http://www.ufcstats.com/fighter-details/94426b...   \n",
       "4  http://www.ufcstats.com/fighter-details/49d2a0...   \n",
       "\n",
       "                                   UUID  \n",
       "0  7e60e735-5d1d-4fa3-b7f7-bcc4a1f50c04  \n",
       "1  cec78d13-b105-4e36-a908-2bcd35d211c9  \n",
       "2  84d443f9-78b9-4e4e-9b86-bd38270ccad1  \n",
       "3  9f4d943c-191c-4a56-a20c-4286297f581b  \n",
       "4  abbdfe77-12e0-40e4-b3dd-30bc906a5d71  "
      ]
     },
     "execution_count": 4,
     "metadata": {},
     "output_type": "execute_result"
    }
   ],
   "source": [
    "df = pd.read_csv('fighter_links_UUID.csv')\n",
    "df.head()"
   ]
  },
  {
   "cell_type": "code",
   "execution_count": 5,
   "metadata": {},
   "outputs": [],
   "source": [
    "links = df['link'].values"
   ]
  },
  {
   "cell_type": "code",
   "execution_count": 7,
   "metadata": {},
   "outputs": [
    {
     "name": "stdout",
     "output_type": "stream",
     "text": [
      "http://www.ufcstats.com/fighter-details/c32aeb1a59e6272d\n"
     ]
    }
   ],
   "source": [
    "print(links[0])\n",
    "#Use the UUID to gather stats and map opponents UUID then put in db."
   ]
  }
 ],
 "metadata": {
  "kernelspec": {
   "display_name": "scrape",
   "language": "python",
   "name": "python3"
  },
  "language_info": {
   "codemirror_mode": {
    "name": "ipython",
    "version": 3
   },
   "file_extension": ".py",
   "mimetype": "text/x-python",
   "name": "python",
   "nbconvert_exporter": "python",
   "pygments_lexer": "ipython3",
   "version": "3.13.2"
  }
 },
 "nbformat": 4,
 "nbformat_minor": 2
}
